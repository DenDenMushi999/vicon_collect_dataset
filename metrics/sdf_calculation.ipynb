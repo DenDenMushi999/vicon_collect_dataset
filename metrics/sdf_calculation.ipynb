{
 "cells": [
  {
   "cell_type": "code",
   "execution_count": 1,
   "metadata": {},
   "outputs": [
    {
     "name": "stdout",
     "output_type": "stream",
     "text": [
      "Jupyter environment detected. Enabling Open3D WebVisualizer.\n",
      "[Open3D INFO] WebRTC GUI backend enabled.\n",
      "[Open3D INFO] WebRTCWindowSystem: HTTP handshake server disabled.\n"
     ]
    }
   ],
   "source": [
    "from mesh_to_sdf import mesh_to_voxels, mesh_to_sdf\n",
    "import open3d as o3d\n",
    "import trimesh\n",
    "import skimage\n",
    "import numpy as np\n",
    "from sklearn.metrics import mean_squared_error\n"
   ]
  },
  {
   "cell_type": "code",
   "execution_count": 10,
   "metadata": {},
   "outputs": [],
   "source": [
    "mesh_gt = trimesh.load('/home/dendenmushi/ros1_ws/src/DSP-SLAM/good_maps/lab_cars/9_good/objects/garage_car_slam_centered_scaled.ply')\n",
    "# mesh_gt = o3d.io.read_triangle_mesh('/home/dendenmushi/ros1_ws/src/DSP-SLAM/good_maps/lab_cars/9_good/objects/garage_car_gt_closed_centered.ply')\n",
    "\n",
    "# voxels_gt = mesh_to_voxels(mesh_gt, 64, pad=True)\n",
    "\n",
    "# vertices, faces, normals, _ = skimage.measure.marching_cubes(voxels, level=0)\n",
    "# mesh = trimesh.Trimesh(vertices=vertices, faces=faces, vertex_normals=normals)\n",
    "# mesh.show()\n",
    "\n",
    "\n",
    "pcd_slam = o3d.io.read_point_cloud(\"/home/dendenmushi/ros1_ws/src/DSP-SLAM/good_maps/lab_cars/9_good/objects/garage_car_slam_centered_scaled.ply\")\n",
    "points_slam = np.asarray(pcd_slam.points)\n",
    "\n",
    "\n",
    "# pcd1 = o3d.io.read_point_cloud(\"/home/vlad/Lab_related_stuff/car_gt1.ply\")\n",
    "# x1 = np.asarray(pcd1.points)\n",
    "\n"
   ]
  },
  {
   "cell_type": "code",
   "execution_count": 11,
   "metadata": {},
   "outputs": [
    {
     "name": "stdout",
     "output_type": "stream",
     "text": [
      "(8510,)\n"
     ]
    }
   ],
   "source": [
    "sdf = mesh_to_sdf(mesh_gt, points_slam, surface_point_method='scan', sign_method='normal', bounding_radius=None, scan_count=100, scan_resolution=400, sample_point_count=10000000, normal_sample_count=11)\n",
    "print(sdf.shape)"
   ]
  },
  {
   "cell_type": "code",
   "execution_count": 16,
   "metadata": {},
   "outputs": [
    {
     "name": "stdout",
     "output_type": "stream",
     "text": [
      "-0.04151849\n"
     ]
    }
   ],
   "source": [
    "print(sdf.mean())"
   ]
  },
  {
   "cell_type": "code",
   "execution_count": 18,
   "metadata": {},
   "outputs": [
    {
     "data": {
      "image/png": "[encoded data removed]",
      "text/plain": [
       "<Figure size 640x480 with 1 Axes>"
      ]
     },
     "metadata": {},
     "output_type": "display_data"
    }
   ],
   "source": [
    "import matplotlib.pyplot as plt\n",
    "\n",
    "plt.hist(sdf, bins=50)\n",
    "plt.show()"
   ]
  },
  {
   "cell_type": "code",
   "execution_count": 8,
   "metadata": {},
   "outputs": [
    {
     "name": "stdout",
     "output_type": "stream",
     "text": [
      "sdf array: [0.48976648 0.48984307 0.5007044  ... 0.48973587 0.5210539  0.48924562]\n",
      "mean sdf 0.22916378\n"
     ]
    },
    {
     "ename": "NameError",
     "evalue": "name 'x' is not defined",
     "output_type": "error",
     "traceback": [
      "\u001b[0;31m---------------------------------------------------------------------------\u001b[0m",
      "\u001b[0;31mNameError\u001b[0m                                 Traceback (most recent call last)",
      "Cell \u001b[0;32mIn[8], line 9\u001b[0m\n\u001b[1;32m      2\u001b[0m \u001b[39mprint\u001b[39m(\u001b[39m\"\u001b[39m\u001b[39mmean sdf\u001b[39m\u001b[39m\"\u001b[39m,np\u001b[39m.\u001b[39mmean(sdf))\n\u001b[1;32m      4\u001b[0m \u001b[39m# print(np.max(x[:,0]), \"X\")\u001b[39;00m\n\u001b[1;32m      5\u001b[0m \u001b[39m# print(np.min(x[:,0]), \"X\")\u001b[39;00m\n\u001b[1;32m      6\u001b[0m \u001b[39m# print(np.max(x[:,1]))\u001b[39;00m\n\u001b[1;32m      7\u001b[0m \u001b[39m# print(np.min(x[:,1]))\u001b[39;00m\n\u001b[0;32m----> 9\u001b[0m measured_x \u001b[39m=\u001b[39m np\u001b[39m.\u001b[39mmax(x[:,\u001b[39m0\u001b[39m])\u001b[39m-\u001b[39mnp\u001b[39m.\u001b[39mmin(x[:,\u001b[39m0\u001b[39m])\n\u001b[1;32m     10\u001b[0m measured_y \u001b[39m=\u001b[39m np\u001b[39m.\u001b[39mmax(x[:,\u001b[39m1\u001b[39m])\u001b[39m-\u001b[39mnp\u001b[39m.\u001b[39mmin(x[:,\u001b[39m1\u001b[39m])\n\u001b[1;32m     11\u001b[0m measured_z \u001b[39m=\u001b[39m np\u001b[39m.\u001b[39mmax(x[:,\u001b[39m2\u001b[39m])\u001b[39m-\u001b[39mnp\u001b[39m.\u001b[39mmin(x[:,\u001b[39m2\u001b[39m])\n",
      "\u001b[0;31mNameError\u001b[0m: name 'x' is not defined"
     ]
    }
   ],
   "source": [
    "print(\"sdf array:\",sdf)\n",
    "print(\"mean sdf\",np.mean(sdf))\n",
    "\n",
    "# print(np.max(x[:,0]), \"X\")\n",
    "# print(np.min(x[:,0]), \"X\")\n",
    "# print(np.max(x[:,1]))\n",
    "# print(np.min(x[:,1]))\n",
    "\n",
    "measured_x = np.max(x[:,0])-np.min(x[:,0])\n",
    "measured_y = np.max(x[:,1])-np.min(x[:,1])\n",
    "measured_z = np.max(x[:,2])-np.min(x[:,2])\n",
    "\n",
    "print(\"dX=\",measured_x, \"dY=\", measured_y, \"dZ=\", measured_z)\n",
    "\n",
    "a = np.zeros_like(sdf)\n",
    "mse = mean_squared_error(sdf,a)\n",
    "\n",
    "\n",
    "\n",
    "#Ground truth sizes (Lidar scan)\n",
    "truth_x = 1.8494912385940552 #width\n",
    "truth_y = 1.466355562210083 #hight\n",
    "truth_z = 4.1528595089912415 #lenght\n",
    "\n",
    "#Scaling model relative to Ground truth sizes\n",
    "scaleX = truth_x/measured_x\n",
    "scaleY = truth_y/measured_y\n",
    "scaleZ = truth_z/measured_z\n",
    "\n",
    "\n",
    "print(\"Scale X =\", scaleX, \"Scale Y =\", scaleY, \"Scale Z =\", scaleZ )\n",
    "\n",
    "scaled_sdf = sdf * scaleX\n",
    "print(np.mean(scaled_sdf), \"mean scaled sdf\")\n",
    "print(np.max(sdf))\n",
    "\n",
    "\n",
    "scaled_mse = mean_squared_error(scaled_sdf,a)\n",
    "print(\"Mean Squared Error of sdf:\", mse)\n",
    "\n",
    "print(\"Scaled Mean Squared Error of sdf\", scaled_mse)\n",
    "print(np.max(scaled_sdf))\n",
    "o3d.visualization.draw_geometries([pcd, pcd1])\n",
    "\n"
   ]
  },
  {
   "cell_type": "code",
   "execution_count": null,
   "metadata": {},
   "outputs": [],
   "source": [
    "pcd = o3d.io.read_point_cloud(\"/home/vlad/Lab_related_stuff/1.ply\")\n",
    "pcd1 = o3d.io.read_point_cloud(\"/home/vlad/Lab_related_stuff/0.ply\")\n",
    "\n",
    "# points = np.asarray(pcd.points)\n",
    "# points[:,2] += 1\n",
    "# pcd1.points = o3d.utility.Vector3dVector(points)\n",
    "o3d.visualization.draw_geometries([pcd, pcd1])\n",
    "\n"
   ]
  },
  {
   "cell_type": "code",
   "execution_count": null,
   "metadata": {},
   "outputs": [],
   "source": []
  }
 ],
 "metadata": {
  "kernelspec": {
   "display_name": "base",
   "language": "python",
   "name": "python3"
  },
  "language_info": {
   "codemirror_mode": {
    "name": "ipython",
    "version": 3
   },
   "file_extension": ".py",
   "mimetype": "text/x-python",
   "name": "python",
   "nbconvert_exporter": "python",
   "pygments_lexer": "ipython3",
   "version": "3.9.16"
  },
  "orig_nbformat": 4
 },
 "nbformat": 4,
 "nbformat_minor": 2
}

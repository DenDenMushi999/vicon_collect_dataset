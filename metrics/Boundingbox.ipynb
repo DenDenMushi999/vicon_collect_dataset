{
 "cells": [
  {
   "cell_type": "code",
   "execution_count": 4,
   "metadata": {},
   "outputs": [],
   "source": [
    "# %pip install point-cloud-utils\n",
    "# %pip install open3d"
   ]
  },
  {
   "cell_type": "code",
   "execution_count": 5,
   "metadata": {},
   "outputs": [],
   "source": [
    "import open3d as o3d\n",
    "import numpy as np\n",
    "import point_cloud_utils as pcu"
   ]
  },
  {
   "attachments": {},
   "cell_type": "markdown",
   "metadata": {},
   "source": [
    "# Filter GT car point cloud with coordinate boundings"
   ]
  },
  {
   "cell_type": "code",
   "execution_count": 6,
   "metadata": {},
   "outputs": [
    {
     "name": "stdout",
     "output_type": "stream",
     "text": [
      "PointCloud with 47028 points.\n",
      "[[-4.20962906 -4.486413   -0.48271599]\n",
      " [-4.20279646 -4.48939323 -0.57438207]\n",
      " [-4.21632767 -4.52246857 -0.52107489]\n",
      " [-4.22232676 -4.49640751 -0.4567422 ]\n",
      " [-4.21476746 -4.47093773 -0.3922652 ]\n",
      " [-4.22053099 -4.48530102 -0.4077765 ]\n",
      " [-4.219666   -4.39975834 -0.22369796]\n",
      " [-4.21847248 -4.44138527 -0.30374253]\n",
      " [-4.23277807 -4.44536114 -0.2040692 ]\n",
      " [-4.18092203 -4.35640526 -1.03531718]]\n",
      "height is: 4.613835334777832\n"
     ]
    }
   ],
   "source": [
    "#sample_pcd_data = o3d.data.PCDPointCloud()\n",
    "pcd_gt = o3d.io.read_point_cloud(\"garage_car_gt.ply\")#\n",
    "print(pcd_gt)\n",
    "# o3d.io.write_point_cloud(\"garage_car_gt.pcd\", pcd)\n",
    "\n",
    "points = np.asarray(pcd_gt.points)\n",
    "print(points[:10])\n",
    "\n",
    "min_x = points[:,0].min()\n",
    "max_x = points[:,0].max()\n",
    "min_y = points[:,1].min()\n",
    "max_y = points[:,1].max()\n",
    "min_z = points[:,2].min()\n",
    "max_z = points[:,2].max()\n",
    "\n",
    "height = max_z - min_z\n",
    "print(f'height is: {height}')\n",
    "\n",
    "filtered_points = []\n",
    "for p in points:\n",
    "    if (p[0] < min_x + 0.54*(max_x-min_x)) \\\n",
    "    and (p[0] > min_x + 0.33*(max_x-min_x)) \\\n",
    "    and (p[1] < min_y + 0.60*(max_y-min_y))\\\n",
    "    and (p[1] > min_y + 0.167*(max_y-min_y)) \\\n",
    "    and (p[2] < min_z + 0.37*height) \\\n",
    "    and (p[2] > min_z + 0.05*height):\n",
    "        filtered_points.append(p)\n",
    "\n",
    "pcd_gt.points = o3d.utility.Vector3dVector(filtered_points)\n",
    "\n",
    "pcd_gt.normals = o3d.utility.Vector3dVector(np.zeros((1,3)))\n",
    "pcd_gt.estimate_normals()\n",
    "o3d.visualization.draw_geometries([pcd_gt], point_show_normal=True)\n"
   ]
  },
  {
   "cell_type": "code",
   "execution_count": 4,
   "metadata": {},
   "outputs": [
    {
     "name": "stdout",
     "output_type": "stream",
     "text": [
      "std::vector<Eigen::Vector3d> with 8295 elements.\n",
      "Use numpy.asarray() to access data.\n"
     ]
    }
   ],
   "source": [
    "print(pcd_gt.normals)"
   ]
  },
  {
   "cell_type": "code",
   "execution_count": 6,
   "metadata": {},
   "outputs": [
    {
     "data": {
      "text/plain": [
       "True"
      ]
     },
     "execution_count": 6,
     "metadata": {},
     "output_type": "execute_result"
    }
   ],
   "source": [
    "radii =  [0.2, 0.2, 0.02, 0.04]\n",
    "rec_mesh = o3d.geometry.TriangleMesh.create_from_point_cloud_ball_pivoting(pcd_gt, o3d.utility.DoubleVector(radii))\n",
    "\n",
    "o3d.io.write_triangle_mesh(\"gt_garage_car_cropped.ply\", rec_mesh)"
   ]
  },
  {
   "cell_type": "code",
   "execution_count": null,
   "metadata": {},
   "outputs": [],
   "source": [
    "mesh_gt_poisson, densities = o3d.geometry.TriangleMesh.create_from_point_cloud_poisson(\n",
    "        pcd_gt, depth=4)\n",
    "o3d.visualization.draw_geometries([mesh_gt_poisson], point_show_normal=True)"
   ]
  },
  {
   "cell_type": "code",
   "execution_count": 4,
   "metadata": {},
   "outputs": [],
   "source": [
    "bbox_gt = pcd_gt.get_axis_aligned_bounding_box()\n",
    "bbox_gt.color = (1, 0, 0)\n",
    "o3d.visualization.draw_geometries([pcd_gt, bbox_gt])"
   ]
  },
  {
   "cell_type": "code",
   "execution_count": 5,
   "metadata": {},
   "outputs": [],
   "source": [
    "# viewer = o3d.visualization.Visualizer()\n",
    "# viewer.create_window()\n",
    "\n",
    "# viewer.add_geometry(pcd)\n",
    "# opt = viewer.get_render_option()\n",
    "# opt.show_coordinate_frame = True\n",
    "# viewer.run()\n",
    "# viewer.destroy_window()\n",
    "o3d.visualization.draw_geometries([pcd_gt])"
   ]
  },
  {
   "cell_type": "code",
   "execution_count": 6,
   "metadata": {},
   "outputs": [
    {
     "name": "stdout",
     "output_type": "stream",
     "text": [
      "[[-2.45406628e-02 -7.77081251e-01 -7.14078307e-01]\n",
      " [-9.10775661e-02 -7.49493122e-01 -7.13989735e-01]\n",
      " [-1.03873968e-01 -7.82091379e-01 -7.09087014e-01]\n",
      " [ 8.08477402e-04 -8.21151733e-01 -7.04544902e-01]\n",
      " [-4.19430733e-02 -8.37680340e-01 -6.75761521e-01]\n",
      " [-4.64873314e-02 -7.36751318e-01 -7.71771431e-01]\n",
      " [-1.11173153e-01 -6.97208881e-01 -7.70535469e-01]\n",
      " [-9.56075191e-02 -6.91247940e-01 -8.24461937e-01]\n",
      " [-1.32336140e-01 -6.45476103e-01 -8.23509812e-01]\n",
      " [-4.26802635e-02 -7.25002050e-01 -8.04933071e-01]]\n",
      "1.8494912385940552\n",
      "4.1528595089912415\n",
      "1.466355562210083\n"
     ]
    }
   ],
   "source": [
    "points = np.asarray(pcd_gt.points)\n",
    "print(points[:10])\n",
    "\n",
    "min_x = points[:,0].min()\n",
    "max_x = points[:,0].max()\n",
    "min_y = points[:,1].min()\n",
    "max_y = points[:,1].max()\n",
    "min_z = points[:,2].min()\n",
    "max_z = points[:,2].max()\n",
    "\n",
    "print(max_x - min_x)\n",
    "print(max_y - min_y)\n",
    "print(max_z - min_z)"
   ]
  },
  {
   "cell_type": "code",
   "execution_count": 7,
   "metadata": {},
   "outputs": [
    {
     "data": {
      "text/plain": [
       "<bound method PyCapsule.dimension of AxisAlignedBoundingBox: min: (-1.49703, -3.24676, -2.06633), max: (0.352458, 0.9061, -0.59997)>"
      ]
     },
     "execution_count": 7,
     "metadata": {},
     "output_type": "execute_result"
    }
   ],
   "source": [
    "bbox_gt.dimension\n"
   ]
  },
  {
   "cell_type": "code",
   "execution_count": 116,
   "metadata": {},
   "outputs": [
    {
     "name": "stdout",
     "output_type": "stream",
     "text": [
      "<class 'open3d.cpu.pybind.geometry.PointCloud'>\n"
     ]
    },
    {
     "ename": "RuntimeError",
     "evalue": "\u001b[1;31m[Open3D ERROR] ReconstructBallPivoting requires normals\u001b[0;m",
     "output_type": "error",
     "traceback": [
      "\u001b[0;31m---------------------------------------------------------------------------\u001b[0m",
      "\u001b[0;31mRuntimeError\u001b[0m                              Traceback (most recent call last)",
      "\u001b[0;32m/tmp/ipykernel_378781/1116813634.py\u001b[0m in \u001b[0;36m<module>\u001b[0;34m\u001b[0m\n\u001b[1;32m      1\u001b[0m \u001b[0mprint\u001b[0m\u001b[0;34m(\u001b[0m\u001b[0mtype\u001b[0m\u001b[0;34m(\u001b[0m\u001b[0mpcd_gt\u001b[0m\u001b[0;34m)\u001b[0m\u001b[0;34m)\u001b[0m\u001b[0;34m\u001b[0m\u001b[0;34m\u001b[0m\u001b[0m\n\u001b[1;32m      2\u001b[0m \u001b[0mradii\u001b[0m \u001b[0;34m=\u001b[0m  \u001b[0;34m[\u001b[0m\u001b[0;36m0.005\u001b[0m\u001b[0;34m,\u001b[0m \u001b[0;36m0.01\u001b[0m\u001b[0;34m,\u001b[0m \u001b[0;36m0.02\u001b[0m\u001b[0;34m,\u001b[0m \u001b[0;36m0.04\u001b[0m\u001b[0;34m]\u001b[0m\u001b[0;34m\u001b[0m\u001b[0;34m\u001b[0m\u001b[0m\n\u001b[0;32m----> 3\u001b[0;31m \u001b[0mrec_mesh\u001b[0m \u001b[0;34m=\u001b[0m \u001b[0mo3d\u001b[0m\u001b[0;34m.\u001b[0m\u001b[0mgeometry\u001b[0m\u001b[0;34m.\u001b[0m\u001b[0mTriangleMesh\u001b[0m\u001b[0;34m.\u001b[0m\u001b[0mcreate_from_point_cloud_ball_pivoting\u001b[0m\u001b[0;34m(\u001b[0m\u001b[0mpcd_gt\u001b[0m\u001b[0;34m,\u001b[0m \u001b[0mo3d\u001b[0m\u001b[0;34m.\u001b[0m\u001b[0mutility\u001b[0m\u001b[0;34m.\u001b[0m\u001b[0mDoubleVector\u001b[0m\u001b[0;34m(\u001b[0m\u001b[0mradii\u001b[0m\u001b[0;34m)\u001b[0m\u001b[0;34m)\u001b[0m\u001b[0;34m\u001b[0m\u001b[0;34m\u001b[0m\u001b[0m\n\u001b[0m\u001b[1;32m      4\u001b[0m \u001b[0;34m\u001b[0m\u001b[0m\n\u001b[1;32m      5\u001b[0m \u001b[0mo3d\u001b[0m\u001b[0;34m.\u001b[0m\u001b[0mio\u001b[0m\u001b[0;34m.\u001b[0m\u001b[0mwrite_triangle_mesh\u001b[0m\u001b[0;34m(\u001b[0m\u001b[0;34m\"gt_garage_car_cropped.ply\"\u001b[0m\u001b[0;34m,\u001b[0m \u001b[0mrec_mesh\u001b[0m\u001b[0;34m)\u001b[0m\u001b[0;34m\u001b[0m\u001b[0;34m\u001b[0m\u001b[0m\n",
      "\u001b[0;31mRuntimeError\u001b[0m: \u001b[1;31m[Open3D ERROR] ReconstructBallPivoting requires normals\u001b[0;m"
     ]
    }
   ],
   "source": [
    "print(type(pcd_gt))\n",
    "radii =  [0.005, 0.01, 0.02, 0.04]\n",
    "rec_mesh = o3d.geometry.TriangleMesh.create_from_point_cloud_ball_pivoting(pcd_gt, o3d.utility.DoubleVector(radii))\n",
    "\n",
    "o3d.io.write_triangle_mesh(\"gt_garage_car_cropped.ply\", rec_mesh)"
   ]
  },
  {
   "cell_type": "markdown",
   "metadata": {},
   "source": []
  },
  {
   "cell_type": "code",
   "execution_count": 122,
   "metadata": {},
   "outputs": [],
   "source": [
    "mesh_gt_from_pcd = o3d.geometry.TriangleMesh.create_from_point_cloud_alpha_shape(pcd_gt, 0.3)\n",
    "o3d.visualization.draw_geometries([mesh_gt_from_pcd], mesh_show_back_face=True)"
   ]
  },
  {
   "cell_type": "code",
   "execution_count": 9,
   "metadata": {},
   "outputs": [
    {
     "ename": "AttributeError",
     "evalue": "'open3d.cpu.pybind.geometry.TriangleMesh' object has no attribute 'normals'",
     "output_type": "error",
     "traceback": [
      "\u001b[0;31m---------------------------------------------------------------------------\u001b[0m",
      "\u001b[0;31mAttributeError\u001b[0m                            Traceback (most recent call last)",
      "\u001b[0;32m/tmp/ipykernel_422767/506048816.py\u001b[0m in \u001b[0;36m<module>\u001b[0;34m\u001b[0m\n\u001b[1;32m      6\u001b[0m \u001b[0;34m\u001b[0m\u001b[0m\n\u001b[1;32m      7\u001b[0m \u001b[0mvertices\u001b[0m \u001b[0;34m=\u001b[0m \u001b[0mmesh_gt\u001b[0m\u001b[0;34m.\u001b[0m\u001b[0mvertices\u001b[0m\u001b[0;34m\u001b[0m\u001b[0;34m\u001b[0m\u001b[0m\n\u001b[0;32m----> 8\u001b[0;31m \u001b[0mnormals\u001b[0m \u001b[0;34m=\u001b[0m \u001b[0mmesh_gt\u001b[0m\u001b[0;34m.\u001b[0m\u001b[0mnormals\u001b[0m\u001b[0;34m\u001b[0m\u001b[0;34m\u001b[0m\u001b[0m\n\u001b[0m\u001b[1;32m      9\u001b[0m \u001b[0mprint\u001b[0m\u001b[0;34m(\u001b[0m\u001b[0mpoints\u001b[0m\u001b[0;34m[\u001b[0m\u001b[0;34m:\u001b[0m\u001b[0;36m10\u001b[0m\u001b[0;34m]\u001b[0m\u001b[0;34m)\u001b[0m\u001b[0;34m\u001b[0m\u001b[0;34m\u001b[0m\u001b[0m\n\u001b[1;32m     10\u001b[0m \u001b[0;34m\u001b[0m\u001b[0m\n",
      "\u001b[0;31mAttributeError\u001b[0m: 'open3d.cpu.pybind.geometry.TriangleMesh' object has no attribute 'normals'"
     ]
    }
   ],
   "source": [
    "# Filter in the same way but with mesh\n",
    "\n",
    "mesh_gt = o3d.io.read_triangle_mesh(\"garage_car_gt.ply\")\n",
    "\n",
    "# o3d.io.write_point_cloud(\"garage_car_gt.pcd\", pcd)\n",
    "\n",
    "vertices = mesh_gt.vertices\n",
    "normals = mesh_gt.normals\n",
    "print(points[:10])\n",
    "\n",
    "min_x = points[:,0].min()\n",
    "max_x = points[:,0].max()\n",
    "min_y = points[:,1].min()\n",
    "max_y = points[:,1].max()\n",
    "min_z = points[:,2].min()\n",
    "max_z = points[:,2].max()\n",
    "\n",
    "height = max_z - min_z\n",
    "print(f'height is: {height}')\n",
    "\n",
    "filtered_vertices = []\n",
    "filtered_normals = []\n",
    "for v,f in zip(vertices,faces):\n",
    "    if (v[0] < min_x + 0.54*(max_x-min_x)) \\\n",
    "    and (v[0] > min_x + 0.33*(max_x-min_x)) \\\n",
    "    and (v[1] < min_y + 0.60*(max_y-min_y))\\\n",
    "    and (v[1] > min_y + 0.167*(max_y-min_y)) \\\n",
    "    and (v[2] < min_z + 0.37*height) \\\n",
    "    and (v[2] > min_z + 0.05*height):\n",
    "        filtered_vertices.append(v)\n",
    "        filtered_normals.append(v)\n",
    "\n",
    "mesh_gt.vertices = filtered_vertices\n",
    "mesh_gt.normals = filtered_normals"
   ]
  },
  {
   "cell_type": "code",
   "execution_count": 15,
   "metadata": {},
   "outputs": [
    {
     "ename": "RuntimeError",
     "evalue": "\u001b[1;31m[Open3D ERROR] [CreateFromPointCloudPoisson] pcd has no normals\u001b[0;m",
     "output_type": "error",
     "traceback": [
      "\u001b[0;31m---------------------------------------------------------------------------\u001b[0m",
      "\u001b[0;31mRuntimeError\u001b[0m                              Traceback (most recent call last)",
      "\u001b[0;32m/tmp/ipykernel_422767/3908071071.py\u001b[0m in \u001b[0;36m<module>\u001b[0;34m\u001b[0m\n\u001b[1;32m      1\u001b[0m mesh, densities = o3d.geometry.TriangleMesh.create_from_point_cloud_poisson(\n\u001b[0;32m----> 2\u001b[0;31m         pcd_gt, depth=9)\n\u001b[0m",
      "\u001b[0;31mRuntimeError\u001b[0m: \u001b[1;31m[Open3D ERROR] [CreateFromPointCloudPoisson] pcd has no normals\u001b[0;m"
     ]
    }
   ],
   "source": [
    "mesh, densities = o3d.geometry.TriangleMesh.create_from_point_cloud_poisson(\n",
    "        pcd_gt, depth=9)"
   ]
  },
  {
   "cell_type": "code",
   "execution_count": 14,
   "metadata": {},
   "outputs": [
    {
     "name": "stdout",
     "output_type": "stream",
     "text": [
      "[[ 6627  6628  6625]\n",
      " [33275  6628  6627]\n",
      " [ 6628  6629  6625]\n",
      " ...\n",
      " [38543 38544 38546]\n",
      " [  687   686 24080]\n",
      " [20626  5115  5141]]\n"
     ]
    }
   ],
   "source": [
    "print(np.asarray(mesh_gt.triangles))"
   ]
  },
  {
   "cell_type": "code",
   "execution_count": null,
   "metadata": {},
   "outputs": [],
   "source": [
    "#visulaizing .pcd\n",
    "print(\"Load a ply point cloud, print it, and render it\")\n",
    "ply_point_cloud = o3d.data.PLYPointCloud()\n",
    "pcd_gt = o3d.io.read_point_cloud(\"garage_car_gt.ply\")\n",
    "pcd1 = o3d.io.read_point_cloud(\"garage_car_slam.pcd\")\n",
    "#print(pcd)\n",
    "#print(np.asarray(pcd.points))\n",
    "o3d.visualization.draw_geometries([pcd])\n",
    "o3d.visualization.draw_geometries([pcd1])\n",
    "\n",
    "\n",
    "aabb = pcd.get_axis_aligned_bounding_box()\n",
    "aabb.color = (1, 0, 0)\n",
    "aabb1 = pcd1.get_axis_aligned_bounding_box()\n",
    "aabb1.color = (1, 0, 0)\n",
    "obb = pcd.get_oriented_bounding_box()\n",
    "obb.color = (0, 1, 0)\n",
    "obb1 = pcd.get_oriented_bounding_box()\n",
    "obb1.color = (0, 1, 0)\n",
    "\n",
    "x = np.asarray(obb.get_box_points())\n",
    "print(x)\n",
    "\n",
    "obb.volume()\n"
   ]
  },
  {
   "cell_type": "code",
   "execution_count": 3,
   "metadata": {},
   "outputs": [
    {
     "data": {
      "text/plain": [
       "True"
      ]
     },
     "execution_count": 3,
     "metadata": {},
     "output_type": "execute_result"
    }
   ],
   "source": [
    "#re arranging corrdinates\n",
    "import numpy as np\n",
    "from open3d import *\n",
    "from open3d.utility import Vector3dVector\n",
    "\n",
    "# Load the point cloud data file\n",
    "pcd = o3d.io.read_point_cloud(\"new_arch_atlas.pcd\")\n",
    "\n",
    "# Convert the point cloud data into a numpy array\n",
    "points = np.asarray(pcd.points)\n",
    "\n",
    "# Compute the mean of each coordinate axis\n",
    "mean = np.mean(points, axis=0)\n",
    "\n",
    "# Subtract the mean values from each coordinate\n",
    "points -= mean\n",
    "\n",
    "# Update the point cloud data with the new coordinates\n",
    "pcd.points = Vector3dVector(points)\n",
    "\n",
    "# Save the updated point cloud data to a new .pcd file\n",
    "o3d.io.write_point_cloud(\"new_arch_atlas.pcd\", pcd)\n"
   ]
  },
  {
   "cell_type": "code",
   "execution_count": 6,
   "metadata": {},
   "outputs": [
    {
     "name": "stdout",
     "output_type": "stream",
     "text": [
      "0.7461525077781208\n"
     ]
    }
   ],
   "source": [
    "#finding IoU from .pcd\n",
    "\n",
    "import numpy as np\n",
    "from open3d import *\n",
    "from sklearn.metrics import pairwise_distances\n",
    "\n",
    "# Load the point cloud data files\n",
    "pcd1 = o3d.io.read_point_cloud(\"ground_truth.pcd\")\n",
    "pcd2 = o3d.io.read_point_cloud(\"box4.pcd\")\n",
    "\n",
    "# Convert the point cloud data into numpy arrays\n",
    "points1 = np.asarray(pcd1.points)\n",
    "points2 = np.asarray(pcd2.points)\n",
    "#print(points1)\n",
    "# Determine the bounding boxes for each point cloud data file\n",
    "bbox1 = np.array([[np.min(points1[:,0]), np.min(points1[:,1]), np.min(points1[:,2])],\n",
    "                  [np.max(points1[:,0]), np.max(points1[:,1]), np.max(points1[:,2])]])\n",
    "bbox2 = np.array([[np.min(points2[:,0]), np.min(points2[:,1]), np.min(points2[:,2])],\n",
    "                  [np.max(points2[:,0]), np.max(points2[:,1]), np.max(points2[:,2])]])\n",
    "\n",
    "# Compute the intersection and union volumes\n",
    "intersection_vol = np.prod(np.maximum(np.zeros(3), np.minimum(bbox1[1], bbox2[1]) - np.maximum(bbox1[0], bbox2[0])))\n",
    "\n",
    "bbox1_vol = np.prod(bbox1[1] - bbox1[0])\n",
    "bbox2_vol = np.prod(bbox2[1] - bbox2[0])\n",
    "union_vol = bbox1_vol + bbox2_vol - intersection_vol\n",
    "\n",
    "# Compute the IoU score\n",
    "iou = intersection_vol / union_vol\n",
    "\n",
    "# Store the IoU score in a matrix format\n",
    "iou_matrix = np.array([[iou]])\n",
    "print(iou)\n"
   ]
  },
  {
   "cell_type": "code",
   "execution_count": null,
   "metadata": {},
   "outputs": [],
   "source": [
    "import matplotlib.pyplot as plt\n",
    "\n",
    "# A = np.array([[ 1.07076887,  0.49715754,  0.83005751],\n",
    "# [ 1.26622805, -0.80911457, 0.73557315],\n",
    "# [ 0.27439615,  0.3752837,   0.86754558],\n",
    "# [ 1.04617629,  0.52477215,  0.39740343],\n",
    "# [ 0.44526275, -0.9033738,   0.34040714],\n",
    "# [ 0.24980357,  0.40289831,  0.4348915 ],\n",
    "# [ 1.24163547, -0.78149996,  0.30291908],\n",
    "# [ 0.46985533, -0.93098841,  0.77306122]])\n",
    "\n",
    "A = np.array([[2.34745586, 1.37485432 ,1.84188344],\n",
    " [2.45476055 ,2.59169925 ,1.74893821],\n",
    " [1.54399161 ,1.45728807 ,1.99351689],\n",
    " [2.45514538 ,1.40758388 ,2.39470775],\n",
    " [1.7589858 , 2.70686255 ,2.45339596],\n",
    " [1.65168112 ,1.49001762, 2.5463412 ],\n",
    " [2.56245006 ,2.6244288  ,2.30176252],\n",
    " [1.65129629 ,2.67413299 ,1.90057166]])\n",
    "\n",
    "A_new = np.zeros_like(A)\n",
    "A_new[0] = A[7]\n",
    "A_new[1] = A[1]\n",
    "A_new[2] = A[6]\n",
    "A_new[3] = A[4]\n",
    "A_new[4] = A[2]\n",
    "A_new[5] = A[0]\n",
    "A_new[6] = A[3]\n",
    "A_new[7] = A[5]\n",
    "print(A)\n",
    "\n",
    "fig = plt.figure(figsize=(12, 12))\n",
    "ax = fig.add_subplot(projection='3d')\n",
    "\n",
    "\n",
    "#plt.plot(A[:, 0], A[:, 1], A[:, 2],'o', label = 'data')\n",
    "\n",
    "\n",
    "#L = np.sqrt()\n",
    "\n",
    "ax.plot(A_new[:, 0], A_new[:, 1], A_new[:, 2])\n",
    "plt.legend()\n",
    "plt.show()"
   ]
  },
  {
   "cell_type": "code",
   "execution_count": null,
   "metadata": {},
   "outputs": [],
   "source": [
    "# Copyright (c) Meta Platforms, Inc. and affiliates.\n",
    "# All rights reserved.\n",
    "#\n",
    "# This source code is licensed under the BSD-style license found in the\n",
    "# LICENSE file in the root directory of this source tree.\n",
    "\n",
    "#%pip install pytorch3d\n",
    "from typing import Tuple\n",
    "\n",
    "import torch\n",
    "import torch.nn.functional as F\n",
    "from pytorch3d import _C\n",
    "from torch.autograd import Function\n",
    "\n",
    "\n",
    "# -------------------------------------------------- #\n",
    "#                  CONSTANTS                         #\n",
    "# -------------------------------------------------- #\n",
    "\"\"\"\n",
    "_box_planes and _box_triangles define the 4- and 3-connectivity\n",
    "of the 8 box corners.\n",
    "_box_planes gives the quad faces of the 3D box\n",
    "_box_triangles gives the triangle faces of the 3D box\n",
    "\"\"\"\n",
    "_box_planes = [\n",
    "    [0, 1, 2, 3],\n",
    "    [3, 2, 6, 7],\n",
    "    [0, 1, 5, 4],\n",
    "    [0, 3, 7, 4],\n",
    "    [1, 2, 6, 5],\n",
    "    [4, 5, 6, 7],\n",
    "]\n",
    "_box_triangles = [\n",
    "    [0, 1, 2],\n",
    "    [0, 3, 2],\n",
    "    [4, 5, 6],\n",
    "    [4, 6, 7],\n",
    "    [1, 5, 6],\n",
    "    [1, 6, 2],\n",
    "    [0, 4, 7],\n",
    "    [0, 7, 3],\n",
    "    [3, 2, 6],\n",
    "    [3, 6, 7],\n",
    "    [0, 1, 5],\n",
    "    [0, 4, 5],\n",
    "]\n",
    "\n",
    "\n",
    "def _check_coplanar(boxes: torch.Tensor, eps: float = 1e-4) -> None:\n",
    "    faces = torch.tensor(_box_planes, dtype=torch.int64, device=boxes.device)\n",
    "    verts = boxes.index_select(index=faces.view(-1), dim=1)\n",
    "    B = boxes.shape[0]\n",
    "    P, V = faces.shape\n",
    "    # (B, P, 4, 3) -> (B, P, 3)\n",
    "    v0, v1, v2, v3 = verts.reshape(B, P, V, 3).unbind(2)\n",
    "\n",
    "    # Compute the normal\n",
    "    e0 = F.normalize(v1 - v0, dim=-1)\n",
    "    e1 = F.normalize(v2 - v0, dim=-1)\n",
    "    normal = F.normalize(torch.cross(e0, e1, dim=-1), dim=-1)\n",
    "\n",
    "    # Check the fourth vertex is also on the same plane\n",
    "    mat1 = (v3 - v0).view(B, 1, -1)  # (B, 1, P*3)\n",
    "    mat2 = normal.view(B, -1, 1)  # (B, P*3, 1)\n",
    "    if not (mat1.bmm(mat2).abs() < eps).all().item():\n",
    "        msg = \"Plane vertices are not coplanar\"\n",
    "        raise ValueError(msg)\n",
    "\n",
    "    return\n",
    "\n",
    "\n",
    "def _check_nonzero(boxes: torch.Tensor, eps: float = 1e-4) -> None:\n",
    "    \"\"\"\n",
    "    Checks that the sides of the box have a non zero area\n",
    "    \"\"\"\n",
    "    faces = torch.tensor(_box_triangles, dtype=torch.int64, device=boxes.device)\n",
    "    verts = boxes.index_select(index=faces.view(-1), dim=1)\n",
    "    B = boxes.shape[0]\n",
    "    T, V = faces.shape\n",
    "    # (B, T, 3, 3) -> (B, T, 3)\n",
    "    v0, v1, v2 = verts.reshape(B, T, V, 3).unbind(2)\n",
    "\n",
    "    normals = torch.cross(v1 - v0, v2 - v0, dim=-1)  # (B, T, 3)\n",
    "    face_areas = normals.norm(dim=-1) / 2\n",
    "\n",
    "    if (face_areas < eps).any().item():\n",
    "        msg = \"Planes have zero areas\"\n",
    "        raise ValueError(msg)\n",
    "\n",
    "    return\n",
    "\n",
    "\n",
    "class _box3d_overlap(Function):\n",
    "    \"\"\"\n",
    "    Torch autograd Function wrapper for box3d_overlap C++/CUDA implementations.\n",
    "    Backward is not supported.\n",
    "    \"\"\"\n",
    "\n",
    "    @staticmethod\n",
    "    def forward(ctx, boxes1, boxes2):\n",
    "        \"\"\"\n",
    "        Arguments defintions the same as in the box3d_overlap function\n",
    "        \"\"\"\n",
    "        vol, iou = _C.iou_box3d(boxes1, boxes2)\n",
    "        return vol, iou\n",
    "\n",
    "    @staticmethod\n",
    "    def backward(ctx, grad_vol, grad_iou):\n",
    "        raise ValueError(\"box3d_overlap backward is not supported\")\n",
    "\n",
    "\n",
    "def box3d_overlap(\n",
    "    boxes1: torch.Tensor, boxes2: torch.Tensor, eps: float = 1e-4\n",
    ") -> Tuple[torch.Tensor, torch.Tensor]:\n",
    "    \"\"\"\n",
    "    Computes the intersection of 3D boxes1 and boxes2.\n",
    "\n",
    "    Inputs boxes1, boxes2 are tensors of shape (B, 8, 3)\n",
    "    (where B doesn't have to be the same for boxes1 and boxes2),\n",
    "    containing the 8 corners of the boxes, as follows:\n",
    "\n",
    "        (4) +---------+. (5)\n",
    "            | ` .     |  ` .\n",
    "            | (0) +---+-----+ (1)\n",
    "            |     |   |     |\n",
    "        (7) +-----+---+. (6)|\n",
    "            ` .   |     ` . |\n",
    "            (3) ` +---------+ (2)\n",
    "\n",
    "\n",
    "    NOTE: Throughout this implementation, we assume that boxes\n",
    "    are defined by their 8 corners exactly in the order specified in the\n",
    "    diagram above for the function to give correct results. In addition\n",
    "    the vertices on each plane must be coplanar.\n",
    "    As an alternative to the diagram, this is a unit bounding\n",
    "    box which has the correct vertex ordering:\n",
    "\n",
    "    box_corner_vertices = [\n",
    "        [0, 0, 0],\n",
    "        [1, 0, 0],\n",
    "        [1, 1, 0],\n",
    "        [0, 1, 0],\n",
    "        [0, 0, 1],\n",
    "        [1, 0, 1],\n",
    "        [1, 1, 1],\n",
    "        [0, 1, 1],\n",
    "    ]\n",
    "\n",
    "    Args:\n",
    "        boxes1: tensor of shape (N, 8, 3) of the coordinates of the 1st boxes\n",
    "        boxes2: tensor of shape (M, 8, 3) of the coordinates of the 2nd boxes\n",
    "    Returns:\n",
    "        vol: (N, M) tensor of the volume of the intersecting convex shapes\n",
    "        iou: (N, M) tensor of the intersection over union which is\n",
    "            defined as: `iou = vol / (vol1 + vol2 - vol)`\n",
    "    \"\"\"\n",
    "    if not all((8, 3) == box.shape[1:] for box in [boxes1, boxes2]):\n",
    "        raise ValueError(\"Each box in the batch must be of shape (8, 3)\")\n",
    "\n",
    "    _check_coplanar(boxes1, eps)\n",
    "    _check_coplanar(boxes2, eps)\n",
    "    _check_nonzero(boxes1, eps)\n",
    "    _check_nonzero(boxes2, eps)\n",
    "\n",
    "    vol, iou = _box3d_overlap.apply(boxes1, boxes2)\n",
    "\n",
    "    return vol, iou"
   ]
  },
  {
   "cell_type": "code",
   "execution_count": null,
   "metadata": {},
   "outputs": [],
   "source": [
    "# Calculate IoU 3D\n",
    "import torch\n",
    "boxes1 = torch.tensor(A_new, dtype=torch.float32)\n",
    "boxes2 = torch.tensor(A_new, dtype=torch.float32)\n",
    "box1 = boxes1.reshape((1,8,3))\n",
    "box2 = boxes2.reshape((1,8,3))\n",
    "print(box1.shape)\n",
    "print(box1.shape[1:])\n",
    "if not (8, 3) == box1.shape[1:]:\n",
    "    raise ValueError(\"Each box in the batch must be of shape (8, 3)\")\n",
    "print(box3d_overlap(box1, box2))"
   ]
  }
 ],
 "metadata": {
  "kernelspec": {
   "display_name": "Python 3 (ipykernel)",
   "language": "python",
   "name": "python3"
  },
  "language_info": {
   "codemirror_mode": {
    "name": "ipython",
    "version": 3
   },
   "file_extension": ".py",
   "mimetype": "text/x-python",
   "name": "python",
   "nbconvert_exporter": "python",
   "pygments_lexer": "ipython3",
   "version": "3.7.12"
  }
 },
 "nbformat": 4,
 "nbformat_minor": 2
}
